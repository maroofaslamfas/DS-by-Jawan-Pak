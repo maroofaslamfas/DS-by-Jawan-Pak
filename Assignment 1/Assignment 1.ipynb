{
 "cells": [
  {
   "cell_type": "code",
   "execution_count": 3,
   "id": "47bc77e9-9537-4eef-b104-1179a75e6d79",
   "metadata": {},
   "outputs": [
    {
     "name": "stdout",
     "output_type": "stream",
     "text": [
      "\tTwinkle, twinkle, little star,\n",
      "\t\tHow I wonder what your are!\n",
      "\t\t\tUp above the world so high,\n",
      "\t\t\tLike a diamond in the sky.\n",
      "\tTwinkle, twikle, little star,\n",
      "\t\tHow I wonder what you are\n"
     ]
    }
   ],
   "source": [
    "#Question 1\n",
    "\n",
    "x = \"\\tTwinkle, twinkle, little star,\\n\\t\\tHow I wonder what your are!\\n\\t\\t\\tUp above the world so high,\\n\\t\\t\\tLike a diamond in the sky.\\n\\tTwinkle, twikle, little star,\\n\\t\\tHow I wonder what you are\"\n",
    "print(x)"
   ]
  },
  {
   "cell_type": "code",
   "execution_count": 4,
   "id": "095691c0-914e-4c70-8cb5-cefec3c25421",
   "metadata": {},
   "outputs": [
    {
     "name": "stdout",
     "output_type": "stream",
     "text": [
      "3.7.8 | packaged by conda-forge | (default, Nov 17 2020, 23:42:15) \n",
      "[GCC 7.5.0]\n"
     ]
    }
   ],
   "source": [
    "#Question 2\n",
    "\n",
    "import sys \n",
    "print(sys.version)\n"
   ]
  },
  {
   "cell_type": "code",
   "execution_count": 5,
   "id": "1aaf91c7-fb94-4dd4-b089-c06e652dc746",
   "metadata": {},
   "outputs": [
    {
     "name": "stdout",
     "output_type": "stream",
     "text": [
      "Date and Time 02-01-22 and 16:15:20\n"
     ]
    }
   ],
   "source": [
    "\n",
    "#Question 3\n",
    "\n",
    "from datetime import datetime\n",
    "\n",
    "now = datetime.now()\n",
    "print(\"Date and Time\", now.strftime(\"%d-%m-%y and %H:%M:%S\"))\n"
   ]
  },
  {
   "cell_type": "code",
   "execution_count": 6,
   "id": "d18463a8-c760-4b26-a643-1bea03bdd161",
   "metadata": {},
   "outputs": [
    {
     "name": "stdin",
     "output_type": "stream",
     "text": [
      "Enter Radius of Circle:  2\n"
     ]
    },
    {
     "name": "stdout",
     "output_type": "stream",
     "text": [
      "Area of Circle  25.12\n"
     ]
    }
   ],
   "source": [
    "#Question 4\n",
    "\n",
    "r = int(input(\"Enter Radius of Circle: \"))\n",
    "print(\"Area of Circle \", 2*3.14*pow(r,2))\n"
   ]
  },
  {
   "cell_type": "code",
   "execution_count": 7,
   "id": "25108c9d-0fba-49c8-9810-b0e2d1074ece",
   "metadata": {},
   "outputs": [
    {
     "name": "stdin",
     "output_type": "stream",
     "text": [
      "Enter First Name:  hu\n",
      "Ener Second Name:  ji\n"
     ]
    },
    {
     "name": "stdout",
     "output_type": "stream",
     "text": [
      "ji   hu\n"
     ]
    }
   ],
   "source": [
    "#Question 5\n",
    "\n",
    "first = str(input(\"Enter First Name: \"))\n",
    "second = str(input(\"Ener Second Name: \"))\n",
    "print(second, \" \", first)\n"
   ]
  },
  {
   "cell_type": "code",
   "execution_count": 9,
   "id": "df7f4d4d-e665-4593-8f9f-531896d5f3bc",
   "metadata": {},
   "outputs": [
    {
     "name": "stdin",
     "output_type": "stream",
     "text": [
      "Enter First No:  3\n",
      "Ener Second No:  2\n"
     ]
    },
    {
     "name": "stdout",
     "output_type": "stream",
     "text": [
      "Sum of The Number 5\n"
     ]
    }
   ],
   "source": [
    "#Question 6\n",
    "\n",
    "first = int(input(\"Enter First No: \"))\n",
    "second = int(input(\"Ener Second No: \"))\n",
    "print(\"Sum of The Number\", first + second)\n"
   ]
  },
  {
   "cell_type": "code",
   "execution_count": null,
   "id": "62a93c65-de5c-452f-82f8-f7c883e25871",
   "metadata": {},
   "outputs": [],
   "source": []
  }
 ],
 "metadata": {
  "kernelspec": {
   "display_name": "Python 3",
   "language": "python",
   "name": "python3"
  },
  "language_info": {
   "codemirror_mode": {
    "name": "ipython",
    "version": 3
   },
   "file_extension": ".py",
   "mimetype": "text/x-python",
   "name": "python",
   "nbconvert_exporter": "python",
   "pygments_lexer": "ipython3",
   "version": "3.7.8"
  }
 },
 "nbformat": 4,
 "nbformat_minor": 5
}
